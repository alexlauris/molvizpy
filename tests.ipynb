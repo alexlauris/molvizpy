{
 "cells": [
  {
   "cell_type": "code",
   "execution_count": null,
   "metadata": {},
   "outputs": [],
   "source": [
    "import rdkit\n",
    "from rdkit import Chem\n",
    "from rdkit.Chem import AllChem\n",
    "\n",
    "from rdkit.Chem import Draw\n",
    "from rdkit.Chem.Draw import IPythonConsole\n",
    "IPythonConsole.ipython_useSVG=True\n",
    "rdkit.__version__"
   ]
  },
  {
   "cell_type": "code",
   "execution_count": null,
   "metadata": {},
   "outputs": [],
   "source": [
    "smiles = \"CCO\"\n",
    "\n",
    "molecule = Chem.MolFromSmiles(smiles)\n",
    "molecule"
   ]
  },
  {
   "cell_type": "code",
   "execution_count": null,
   "metadata": {},
   "outputs": [],
   "source": [
    "# First, make sure you have the RDKit library installed.\n",
    "# You can install it using pip: `pip install rdkit-pypi`\n",
    "\n",
    "from rdkit import Chem\n",
    "from rdkit.Chem import Draw\n",
    "\n",
    "# Define your molecule's SMILES string\n",
    "smiles = 'Cc1ccccc1'  # Example SMILES for toluene\n",
    "\n",
    "# Create an RDKit molecule object from the SMILES\n",
    "mol = Chem.MolFromSmiles(smiles)\n",
    "\n",
    "# Check if the molecule was successfully created\n",
    "if mol is not None:\n",
    "    # Generate a 2D depiction of the molecule\n",
    "    img = Draw.MolToImage(mol)\n",
    "\n",
    "    # Display the image (you can save it to a file if needed)\n",
    "    img.show()\n",
    "else:\n",
    "    print(\"Error: Unable to create molecule from SMILES.\")\n"
   ]
  },
  {
   "cell_type": "code",
   "execution_count": null,
   "metadata": {},
   "outputs": [],
   "source": [
    "import pubchempy as pcp\n",
    "from rdkit import Chem\n",
    "from rdkit.Chem import Draw\n",
    "\n",
    "def get_smiles_from_name(common_name):\n",
    "    try:\n",
    "        compounds = pcp.get_compounds(common_name, 'name')\n",
    "        return compounds[0].isomeric_smiles\n",
    "    except IndexError:\n",
    "        return None\n",
    "\n",
    "def is_valid_molecule(molecule_name):\n",
    "    smiles = get_smiles_from_name(molecule_name) if not Chem.MolFromSmiles(molecule_name) else molecule_name\n",
    "    molecule = Chem.MolFromSmiles(smiles)\n",
    "    return molecule is not None\n",
    "\n",
    "def visualize_molecule(molecule_name):\n",
    "    smiles = get_smiles_from_name(molecule_name) if not Chem.MolFromSmiles(molecule_name) else molecule_name\n",
    "    molecule = Chem.MolFromSmiles(smiles)\n",
    "    if molecule:\n",
    "        # Generate a 2D structure for the molecule\n",
    "        Chem.rdDepictor.Compute2DCoords(molecule)\n",
    "        # Draw the molecule\n",
    "        img = Draw.MolToImage(molecule)\n",
    "        return img\n",
    "    else:\n",
    "        print(f\"The molecule name '{molecule_name}' is not valid.\")\n",
    "        return None\n",
    "\n",
    "# Example usage:\n",
    "common_name = \"ethanol\"\n",
    "img = visualize_molecule(common_name)\n",
    "img.show() if img else None\n"
   ]
  },
  {
   "cell_type": "code",
   "execution_count": null,
   "metadata": {},
   "outputs": [],
   "source": [
    "from rdkit import Chem\n",
    "from rdkit.Chem import AllChem\n",
    "from pyscf import gto, symm\n",
    "\n",
    "def get_point_group_from_smiles(smiles):\n",
    "    # Create a molecule object from SMILES string\n",
    "    molecule = Chem.MolFromSmiles(smiles)\n",
    "\n",
    "    # Add hydrogens\n",
    "    molecule = Chem.AddHs(molecule)\n",
    "\n",
    "    # Generate 3D coordinates\n",
    "    AllChem.EmbedMolecule(molecule)\n",
    "    AllChem.UFFOptimizeMolecule(molecule)\n",
    "\n",
    "    # Get atomic coordinates in the format required by PySCF\n",
    "    conf = molecule.GetConformer()\n",
    "    atom_coords = ''\n",
    "    for atom in molecule.GetAtoms():\n",
    "        pos = conf.GetAtomPosition(atom.GetIdx())\n",
    "        atom_coords += f\"{atom.GetSymbol()} {pos.x} {pos.y} {pos.z};\"\n",
    "\n",
    "    # Define the molecule in PySCF\n",
    "    mol = gto.M(atom=atom_coords)\n",
    "\n",
    "    # Detect and print the point group\n",
    "    mol.build()\n",
    "    point_group_info = symm.detect_symm(mol)\n",
    "    point_group = point_group_info[0][0]  # Access the first element of the list\n",
    "    return point_group\n",
    "\n",
    "# Example usage:\n",
    "smiles_string = 'CCO'  # Replace with your molecule's SMILES string\n",
    "point_group = get_point_group_from_smiles(smiles_string)\n",
    "print(f'The point group of the molecule is: {point_group}')\n"
   ]
  },
  {
   "cell_type": "code",
   "execution_count": null,
   "metadata": {},
   "outputs": [],
   "source": [
    "import streamlit as st\n",
    "import py3Dmol\n",
    "from stmol import showmol\n",
    "st.sidebar.title('Show Proteins')\n",
    "prot_str='1A2C,1BML,1D5M,1D5X,1D5Z,1D6E,1DEE,1E9F,1FC2,1FCC,1G4U,1GZS,1HE1,1HEZ,1HQR,1HXY,1IBX,1JBU,1JWM,1JWS'\n",
    "prot_list=prot_str.split(',')\n",
    "bcolor = st.sidebar.color_picker('Pick A Color', '#00f900')\n",
    "protein=st.sidebar.selectbox('select protein',prot_list)\n",
    "style = st.sidebar.selectbox('style',['line','cross','stick','sphere','cartoon','clicksphere'])\n",
    "spin = st.sidebar.checkbox('Spin', value = False)\n",
    "xyzview = py3Dmol.view(query='pdb:'+protein)\n",
    "xyzview.setStyle({style:{'color':'spectrum'}})\n",
    "xyzview.setBackgroundColor(bcolor)\n",
    "if spin:\n",
    "    xyzview.spin(True)\n",
    "else:\n",
    "    xyzview.spin(False)\n",
    "xyzview.zoomTo()\n",
    "showmol(xyzview,height=500,width=800)"
   ]
  },
  {
   "cell_type": "code",
   "execution_count": null,
   "metadata": {},
   "outputs": [],
   "source": [
    "import streamlit as st\n",
    "from stmol import showmol\n",
    "import py3Dmol\n",
    "\n",
    "from rdkit import Chem\n",
    "from rdkit.Chem import AllChem\n",
    "\n",
    "st.title('RDKit + Py3DMOL 😀')\n",
    "\n",
    "def check_smiles(smiles):\n",
    "    try:\n",
    "        mol = Chem.MolFromSmiles(smiles)\n",
    "        if mol is not None:\n",
    "            return mol\n",
    "        else:\n",
    "            return \"Invalid SMILES\"\n",
    "    except:\n",
    "        return \"Invalid SMILES\"\n",
    "\n",
    "def makeblock(smi):\n",
    "    mol = Chem.MolFromSmiles(smi)\n",
    "    mol = Chem.AddHs(mol)\n",
    "    AllChem.EmbedMolecule(mol)\n",
    "    mblock = Chem.MolToMolBlock(mol)\n",
    "    return mblock\n",
    "\n",
    "def render_mol(xyz):\n",
    "    xyzview = py3Dmol.view()#(width=400,height=400)\n",
    "    xyzview.addModel(xyz,'mol')\n",
    "    xyzview.setStyle({'stick':{}})\n",
    "    xyzview.setBackgroundColor('white')\n",
    "    xyzview.zoomTo()\n",
    "    showmol(xyzview,height=500,width=500)\n",
    "\n",
    "compound_smiles=st.text_input('SMILES please','CC')\n",
    "check_smiles(smiles=compound_smiles)\n",
    "\n",
    "blk=makeblock(compound_smiles)\n",
    "render_mol(blk)"
   ]
  },
  {
   "cell_type": "code",
   "execution_count": 55,
   "metadata": {},
   "outputs": [
    {
     "name": "stdout",
     "output_type": "stream",
     "text": [
      "The point group of H2O is: C2v\n"
     ]
    }
   ],
   "source": [
    "import pointgroup\n",
    "\n",
    "# Define the coordinates of the atoms in the molecule\n",
    "# For H2O, the structure can be defined as follows:\n",
    "atoms = PointGroup(positions= [\n",
    "    [0.0, 0.0, 0.0],\n",
    "    [0.758, 0.586, 0.0],\n",
    "    [-0.758, 0.586, 0.0]],\n",
    "    symbols = [\"O\",\"H\",\"H\"])\n",
    "\n",
    "# Get the point group\n",
    "pg = atoms.get_point_group()\n",
    "print(f\"The point group of H2O is: {pg}\")\n"
   ]
  },
  {
   "cell_type": "code",
   "execution_count": 65,
   "metadata": {},
   "outputs": [
    {
     "name": "stdout",
     "output_type": "stream",
     "text": [
      "Point group:  Cinfv\n"
     ]
    }
   ],
   "source": [
    "from pointgroup import PointGroup\n",
    "\n",
    "\n",
    "pg = PointGroup(positions= coordinates_list, \n",
    "                symbols=atom_symbols)\n",
    "\n",
    "print('Point group: ', pg.get_point_group())"
   ]
  },
  {
   "cell_type": "code",
   "execution_count": 49,
   "metadata": {},
   "outputs": [
    {
     "name": "stdout",
     "output_type": "stream",
     "text": [
      "Atom: O, Coordinates: -0.004602157925855892, 0.3744516469979194, -0.0\n",
      "Atom: H, Coordinates: 0.8149012384898123, -0.1856569487017614, 0.0\n",
      "Atom: H, Coordinates: -0.8102990805639566, -0.18879469829615808, -0.0\n"
     ]
    }
   ],
   "source": [
    "\"SAME AS NEXT CELL, BUT THE OTHER ONE IS SLIGHTLY BETTER\"\n",
    "from rdkit import Chem\n",
    "from rdkit.Chem import AllChem\n",
    "\n",
    "# Your SMILES string\n",
    "smiles = \"O\"\n",
    "\n",
    "# Convert SMILES to a molecule object\n",
    "mol = Chem.MolFromSmiles(smiles)\n",
    "\n",
    "# Add hydrogens to the molecule\n",
    "mol_with_h = Chem.AddHs(mol)\n",
    "\n",
    "# Generate 3D coordinates\n",
    "AllChem.EmbedMolecule(mol_with_h, AllChem.ETKDG())\n",
    "\n",
    "x_coord = []\n",
    "y_coord = []\n",
    "z_coord = []\n",
    "# Print the coordinates of each atom\n",
    "for atom in mol_with_h.GetAtoms():\n",
    "    pos = mol_with_h.GetConformer().GetAtomPosition(atom.GetIdx())\n",
    "    print(f\"Atom: {atom.GetSymbol()}, Coordinates: {pos.x}, {pos.y}, {pos.z}\")\n",
    "#    x_coord.append(pos.x)\n",
    "#    y_coord.append(pos.y)\n",
    "#    z_coord.append(pos.z)\n",
    "\n",
    "\n",
    "#for item1, item2, item3 in  zip(x_coord, y_coord, z_coord):\n",
    "#    print(item1)"
   ]
  },
  {
   "cell_type": "code",
   "execution_count": 70,
   "metadata": {},
   "outputs": [],
   "source": [
    "from rdkit import Chem\n",
    "from rdkit.Chem import AllChem\n",
    "from pointgroup import PointGroup\n",
    "\n",
    "def point_group_from_smiles():  \n",
    "    smiles = input(\"Input SMILES : \")\n",
    "\n",
    "    # Convert SMILES to a molecule object\n",
    "    mol = Chem.MolFromSmiles(smiles)\n",
    "    if mol is None:\n",
    "        print(\"Invalid SMILES input. Please provide a valid SMILES string.\")\n",
    "    else:\n",
    "        # Add hydrogens to the molecule\n",
    "        mol_with_h = Chem.AddHs(mol)\n",
    "\n",
    "        # Generate 3D coordinates\n",
    "        AllChem.EmbedMolecule(mol_with_h, AllChem.ETKDG())\n",
    "\n",
    "        # Create a list to store coordinates\n",
    "        coordinates_list = []\n",
    "        atom_symbols = []\n",
    "\n",
    "        # Iterate over atoms and get their coordinates\n",
    "        for atom in mol_with_h.GetAtoms():\n",
    "            pos = mol_with_h.GetConformer().GetAtomPosition(atom.GetIdx())\n",
    "            coordinates_list.append([pos.x, pos.y, pos.z])\n",
    "            atom_symbols.append(atom.GetSymbol())\n",
    "\n",
    "    pg = PointGroup(positions= coordinates_list, \n",
    "                    symbols=atom_symbols)\n",
    "\n",
    "    return 'Point group: ', pg.get_point_group()\n"
   ]
  },
  {
   "cell_type": "code",
   "execution_count": 71,
   "metadata": {},
   "outputs": [
    {
     "data": {
      "text/plain": [
       "('Point group: ', 'C1')"
      ]
     },
     "execution_count": 71,
     "metadata": {},
     "output_type": "execute_result"
    }
   ],
   "source": [
    "point_group_from_smiles()"
   ]
  }
 ],
 "metadata": {
  "kernelspec": {
   "display_name": "molvizpy",
   "language": "python",
   "name": "python3"
  },
  "language_info": {
   "codemirror_mode": {
    "name": "ipython",
    "version": 3
   },
   "file_extension": ".py",
   "mimetype": "text/x-python",
   "name": "python",
   "nbconvert_exporter": "python",
   "pygments_lexer": "ipython3",
   "version": "3.12.3"
  }
 },
 "nbformat": 4,
 "nbformat_minor": 2
}
