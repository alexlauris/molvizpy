{
 "cells": [
  {
   "cell_type": "code",
   "execution_count": 12,
   "metadata": {},
   "outputs": [
    {
     "data": {
      "text/plain": [
       "'2023.09.6'"
      ]
     },
     "execution_count": 12,
     "metadata": {},
     "output_type": "execute_result"
    }
   ],
   "source": [
    "import rdkit\n",
    "from rdkit import Chem\n",
    "from rdkit.Chem import AllChem\n",
    "\n",
    "from rdkit.Chem import Draw\n",
    "from rdkit.Chem.Draw import IPythonConsole\n",
    "IPythonConsole.ipython_useSVG=True\n",
    "rdkit.__version__"
   ]
  },
  {
   "cell_type": "code",
   "execution_count": 13,
   "metadata": {},
   "outputs": [
    {
     "data": {
      "image/png": "[encoded data removed]",
      "image/svg+xml": [
       "<?xml version='1.0' encoding='iso-8859-1'?>\n",
       "<svg version='1.1' baseProfile='full'\n",
       "              xmlns='http://www.w3.org/2000/svg'\n",
       "                      xmlns:rdkit='http://www.rdkit.org/xml'\n",
       "                      xmlns:xlink='http://www.w3.org/1999/xlink'\n",
       "                  xml:space='preserve'\n",
       "width='450px' height='150px' viewBox='0 0 450 150'>\n",
       "<!-- END OF HEADER -->\n",
       "<rect style='opacity:1.0;fill:#FFFFFF;stroke:none' width='450.0' height='150.0' x='0.0' y='0.0'> </rect>\n",
       "<path class='bond-0 atom-0 atom-1' d='M 40.4,115.2 L 205.2,20.0' style='fill:none;fill-rule:evenodd;stroke:#000000;stroke-width:2.0px;stroke-linecap:butt;stroke-linejoin:miter;stroke-opacity:1' />\n",
       "<path class='bond-1 atom-1 atom-2' d='M 205.2,20.0 L 278.0,62.1' style='fill:none;fill-rule:evenodd;stroke:#000000;stroke-width:2.0px;stroke-linecap:butt;stroke-linejoin:miter;stroke-opacity:1' />\n",
       "<path class='bond-1 atom-1 atom-2' d='M 278.0,62.1 L 350.8,104.1' style='fill:none;fill-rule:evenodd;stroke:#FF0000;stroke-width:2.0px;stroke-linecap:butt;stroke-linejoin:miter;stroke-opacity:1' />\n",
       "<path d='M 197.0,24.8 L 205.2,20.0 L 208.9,22.1' style='fill:none;stroke:#000000;stroke-width:2.0px;stroke-linecap:butt;stroke-linejoin:miter;stroke-opacity:1;' />\n",
       "<path class='atom-2' d='M 357.1 115.3\n",
       "Q 357.1 108.5, 360.4 104.7\n",
       "Q 363.8 100.9, 370.1 100.9\n",
       "Q 376.3 100.9, 379.7 104.7\n",
       "Q 383.1 108.5, 383.1 115.3\n",
       "Q 383.1 122.2, 379.7 126.1\n",
       "Q 376.3 130.0, 370.1 130.0\n",
       "Q 363.8 130.0, 360.4 126.1\n",
       "Q 357.1 122.2, 357.1 115.3\n",
       "M 370.1 126.8\n",
       "Q 374.4 126.8, 376.7 123.9\n",
       "Q 379.1 121.0, 379.1 115.3\n",
       "Q 379.1 109.7, 376.7 106.9\n",
       "Q 374.4 104.1, 370.1 104.1\n",
       "Q 365.7 104.1, 363.4 106.9\n",
       "Q 361.1 109.7, 361.1 115.3\n",
       "Q 361.1 121.0, 363.4 123.9\n",
       "Q 365.7 126.8, 370.1 126.8\n",
       "' fill='#FF0000'/>\n",
       "<path class='atom-2' d='M 387.5 101.2\n",
       "L 391.3 101.2\n",
       "L 391.3 113.2\n",
       "L 405.8 113.2\n",
       "L 405.8 101.2\n",
       "L 409.6 101.2\n",
       "L 409.6 129.5\n",
       "L 405.8 129.5\n",
       "L 405.8 116.4\n",
       "L 391.3 116.4\n",
       "L 391.3 129.5\n",
       "L 387.5 129.5\n",
       "L 387.5 101.2\n",
       "' fill='#FF0000'/>\n",
       "</svg>\n"
      ],
      "text/html": [
       "<?xml version='1.0' encoding='iso-8859-1'?>\n",
       "<svg version='1.1' baseProfile='full'\n",
       "              xmlns='http://www.w3.org/2000/svg'\n",
       "                      xmlns:rdkit='http://www.rdkit.org/xml'\n",
       "                      xmlns:xlink='http://www.w3.org/1999/xlink'\n",
       "                  xml:space='preserve'\n",
       "width='450px' height='150px' viewBox='0 0 450 150'>\n",
       "<!-- END OF HEADER -->\n",
       "<rect style='opacity:1.0;fill:#FFFFFF;stroke:none' width='450.0' height='150.0' x='0.0' y='0.0'> </rect>\n",
       "<path class='bond-0 atom-0 atom-1' d='M 40.4,115.2 L 205.2,20.0' style='fill:none;fill-rule:evenodd;stroke:#000000;stroke-width:2.0px;stroke-linecap:butt;stroke-linejoin:miter;stroke-opacity:1' />\n",
       "<path class='bond-1 atom-1 atom-2' d='M 205.2,20.0 L 278.0,62.1' style='fill:none;fill-rule:evenodd;stroke:#000000;stroke-width:2.0px;stroke-linecap:butt;stroke-linejoin:miter;stroke-opacity:1' />\n",
       "<path class='bond-1 atom-1 atom-2' d='M 278.0,62.1 L 350.8,104.1' style='fill:none;fill-rule:evenodd;stroke:#FF0000;stroke-width:2.0px;stroke-linecap:butt;stroke-linejoin:miter;stroke-opacity:1' />\n",
       "<path d='M 197.0,24.8 L 205.2,20.0 L 208.9,22.1' style='fill:none;stroke:#000000;stroke-width:2.0px;stroke-linecap:butt;stroke-linejoin:miter;stroke-opacity:1;' />\n",
       "<path class='atom-2' d='M 357.1 115.3\n",
       "Q 357.1 108.5, 360.4 104.7\n",
       "Q 363.8 100.9, 370.1 100.9\n",
       "Q 376.3 100.9, 379.7 104.7\n",
       "Q 383.1 108.5, 383.1 115.3\n",
       "Q 383.1 122.2, 379.7 126.1\n",
       "Q 376.3 130.0, 370.1 130.0\n",
       "Q 363.8 130.0, 360.4 126.1\n",
       "Q 357.1 122.2, 357.1 115.3\n",
       "M 370.1 126.8\n",
       "Q 374.4 126.8, 376.7 123.9\n",
       "Q 379.1 121.0, 379.1 115.3\n",
       "Q 379.1 109.7, 376.7 106.9\n",
       "Q 374.4 104.1, 370.1 104.1\n",
       "Q 365.7 104.1, 363.4 106.9\n",
       "Q 361.1 109.7, 361.1 115.3\n",
       "Q 361.1 121.0, 363.4 123.9\n",
       "Q 365.7 126.8, 370.1 126.8\n",
       "' fill='#FF0000'/>\n",
       "<path class='atom-2' d='M 387.5 101.2\n",
       "L 391.3 101.2\n",
       "L 391.3 113.2\n",
       "L 405.8 113.2\n",
       "L 405.8 101.2\n",
       "L 409.6 101.2\n",
       "L 409.6 129.5\n",
       "L 405.8 129.5\n",
       "L 405.8 116.4\n",
       "L 391.3 116.4\n",
       "L 391.3 129.5\n",
       "L 387.5 129.5\n",
       "L 387.5 101.2\n",
       "' fill='#FF0000'/>\n",
       "</svg>\n"
      ],
      "text/plain": [
       "<rdkit.Chem.rdchem.Mol at 0x138d20510>"
      ]
     },
     "execution_count": 13,
     "metadata": {},
     "output_type": "execute_result"
    }
   ],
   "source": [
    "smiles = \"CCO\"\n",
    "\n",
    "molecule = Chem.MolFromSmiles(smiles)\n",
    "molecule"
   ]
  },
  {
   "cell_type": "code",
   "execution_count": 14,
   "metadata": {},
   "outputs": [],
   "source": [
    "# First, make sure you have the RDKit library installed.\n",
    "# You can install it using pip: `pip install rdkit-pypi`\n",
    "\n",
    "from rdkit import Chem\n",
    "from rdkit.Chem import Draw\n",
    "\n",
    "# Define your molecule's SMILES string\n",
    "smiles = 'Cc1ccccc1'  # Example SMILES for toluene\n",
    "\n",
    "# Create an RDKit molecule object from the SMILES\n",
    "mol = Chem.MolFromSmiles(smiles)\n",
    "\n",
    "# Check if the molecule was successfully created\n",
    "if mol is not None:\n",
    "    # Generate a 2D depiction of the molecule\n",
    "    img = Draw.MolToImage(mol)\n",
    "\n",
    "    # Display the image (you can save it to a file if needed)\n",
    "    img.show()\n",
    "else:\n",
    "    print(\"Error: Unable to create molecule from SMILES.\")\n"
   ]
  },
  {
   "cell_type": "code",
   "execution_count": 15,
   "metadata": {},
   "outputs": [
    {
     "name": "stderr",
     "output_type": "stream",
     "text": [
      "[15:09:42] SMILES Parse Error: syntax error while parsing: ethanol\n",
      "[15:09:42] SMILES Parse Error: Failed parsing SMILES 'ethanol' for input: 'ethanol'\n"
     ]
    }
   ],
   "source": [
    "import pubchempy as pcp\n",
    "from rdkit import Chem\n",
    "from rdkit.Chem import Draw\n",
    "\n",
    "def get_smiles_from_name(common_name):\n",
    "    try:\n",
    "        compounds = pcp.get_compounds(common_name, 'name')\n",
    "        return compounds[0].isomeric_smiles\n",
    "    except IndexError:\n",
    "        return None\n",
    "\n",
    "def is_valid_molecule(molecule_name):\n",
    "    smiles = get_smiles_from_name(molecule_name) if not Chem.MolFromSmiles(molecule_name) else molecule_name\n",
    "    molecule = Chem.MolFromSmiles(smiles)\n",
    "    return molecule is not None\n",
    "\n",
    "def visualize_molecule(molecule_name):\n",
    "    smiles = get_smiles_from_name(molecule_name) if not Chem.MolFromSmiles(molecule_name) else molecule_name\n",
    "    molecule = Chem.MolFromSmiles(smiles)\n",
    "    if molecule:\n",
    "        # Generate a 2D structure for the molecule\n",
    "        Chem.rdDepictor.Compute2DCoords(molecule)\n",
    "        # Draw the molecule\n",
    "        img = Draw.MolToImage(molecule)\n",
    "        return img\n",
    "    else:\n",
    "        print(f\"The molecule name '{molecule_name}' is not valid.\")\n",
    "        return None\n",
    "\n",
    "# Example usage:\n",
    "common_name = \"ethanol\"\n",
    "img = visualize_molecule(common_name)\n",
    "img.show() if img else None\n"
   ]
  },
  {
   "cell_type": "code",
   "execution_count": 34,
   "metadata": {},
   "outputs": [
    {
     "ename": "TypeError",
     "evalue": "object of type 'Mole' has no len()",
     "output_type": "error",
     "traceback": [
      "\u001b[0;31m---------------------------------------------------------------------------\u001b[0m",
      "\u001b[0;31mTypeError\u001b[0m                                 Traceback (most recent call last)",
      "Cell \u001b[0;32mIn[34], line 34\u001b[0m\n\u001b[1;32m     32\u001b[0m \u001b[38;5;66;03m# Example usage:\u001b[39;00m\n\u001b[1;32m     33\u001b[0m smiles_string \u001b[38;5;241m=\u001b[39m \u001b[38;5;124m'\u001b[39m\u001b[38;5;124mCCO\u001b[39m\u001b[38;5;124m'\u001b[39m  \u001b[38;5;66;03m# Replace with your molecule's SMILES string\u001b[39;00m\n\u001b[0;32m---> 34\u001b[0m point_group \u001b[38;5;241m=\u001b[39m \u001b[43mget_point_group_from_smiles\u001b[49m\u001b[43m(\u001b[49m\u001b[43msmiles_string\u001b[49m\u001b[43m)\u001b[49m\n\u001b[1;32m     35\u001b[0m \u001b[38;5;28mprint\u001b[39m(\u001b[38;5;124mf\u001b[39m\u001b[38;5;124m'\u001b[39m\u001b[38;5;124mThe point group of the molecule is: \u001b[39m\u001b[38;5;132;01m{\u001b[39;00mpoint_group\u001b[38;5;132;01m}\u001b[39;00m\u001b[38;5;124m'\u001b[39m)\n",
      "Cell \u001b[0;32mIn[34], line 28\u001b[0m, in \u001b[0;36mget_point_group_from_smiles\u001b[0;34m(smiles)\u001b[0m\n\u001b[1;32m     26\u001b[0m \u001b[38;5;66;03m# Detect and print the point group\u001b[39;00m\n\u001b[1;32m     27\u001b[0m mol\u001b[38;5;241m.\u001b[39mbuild()\n\u001b[0;32m---> 28\u001b[0m point_group_info \u001b[38;5;241m=\u001b[39m \u001b[43msymm\u001b[49m\u001b[38;5;241;43m.\u001b[39;49m\u001b[43mdetect_symm\u001b[49m\u001b[43m(\u001b[49m\u001b[43mmol\u001b[49m\u001b[43m)\u001b[49m\n\u001b[1;32m     29\u001b[0m point_group \u001b[38;5;241m=\u001b[39m point_group_info[\u001b[38;5;241m0\u001b[39m][\u001b[38;5;241m0\u001b[39m]  \u001b[38;5;66;03m# Access the first element of the list\u001b[39;00m\n\u001b[1;32m     30\u001b[0m \u001b[38;5;28;01mreturn\u001b[39;00m point_group\n",
      "File \u001b[0;32m~/miniconda3/envs/molvizpy/lib/python3.12/site-packages/pyscf/symm/geom.py:178\u001b[0m, in \u001b[0;36mdetect_symm\u001b[0;34m(atoms, basis, verbose)\u001b[0m\n\u001b[1;32m    175\u001b[0m \u001b[38;5;28;01melse\u001b[39;00m:\n\u001b[1;32m    176\u001b[0m     log \u001b[38;5;241m=\u001b[39m logger\u001b[38;5;241m.\u001b[39mLogger(sys\u001b[38;5;241m.\u001b[39mstdout, verbose)\n\u001b[0;32m--> 178\u001b[0m tol \u001b[38;5;241m=\u001b[39m TOLERANCE \u001b[38;5;241m/\u001b[39m numpy\u001b[38;5;241m.\u001b[39msqrt(\u001b[38;5;241m1\u001b[39m\u001b[38;5;241m+\u001b[39m\u001b[38;5;28;43mlen\u001b[39;49m\u001b[43m(\u001b[49m\u001b[43matoms\u001b[49m\u001b[43m)\u001b[49m)\n\u001b[1;32m    179\u001b[0m decimals \u001b[38;5;241m=\u001b[39m \u001b[38;5;28mint\u001b[39m(\u001b[38;5;241m-\u001b[39mnumpy\u001b[38;5;241m.\u001b[39mlog10(tol))\n\u001b[1;32m    180\u001b[0m log\u001b[38;5;241m.\u001b[39mdebug(\u001b[38;5;124m'\u001b[39m\u001b[38;5;124mgeometry tol = \u001b[39m\u001b[38;5;132;01m%g\u001b[39;00m\u001b[38;5;124m'\u001b[39m, tol)\n",
      "\u001b[0;31mTypeError\u001b[0m: object of type 'Mole' has no len()"
     ]
    }
   ],
   "source": [
    "from rdkit import Chem\n",
    "from rdkit.Chem import AllChem\n",
    "from pyscf import gto, symm\n",
    "\n",
    "def get_point_group_from_smiles(smiles):\n",
    "    # Create a molecule object from SMILES string\n",
    "    molecule = Chem.MolFromSmiles(smiles)\n",
    "\n",
    "    # Add hydrogens\n",
    "    molecule = Chem.AddHs(molecule)\n",
    "\n",
    "    # Generate 3D coordinates\n",
    "    AllChem.EmbedMolecule(molecule)\n",
    "    AllChem.UFFOptimizeMolecule(molecule)\n",
    "\n",
    "    # Get atomic coordinates in the format required by PySCF\n",
    "    conf = molecule.GetConformer()\n",
    "    atom_coords = ''\n",
    "    for atom in molecule.GetAtoms():\n",
    "        pos = conf.GetAtomPosition(atom.GetIdx())\n",
    "        atom_coords += f\"{atom.GetSymbol()} {pos.x} {pos.y} {pos.z};\"\n",
    "\n",
    "    # Define the molecule in PySCF\n",
    "    mol = gto.M(atom=atom_coords)\n",
    "\n",
    "    # Detect and print the point group\n",
    "    mol.build()\n",
    "    point_group_info = symm.detect_symm(mol)\n",
    "    point_group = point_group_info[0][0]  # Access the first element of the list\n",
    "    return point_group\n",
    "\n",
    "# Example usage:\n",
    "smiles_string = 'CCO'  # Replace with your molecule's SMILES string\n",
    "point_group = get_point_group_from_smiles(smiles_string)\n",
    "print(f'The point group of the molecule is: {point_group}')\n"
   ]
  }
 ],
 "metadata": {
  "kernelspec": {
   "display_name": "molvizpy",
   "language": "python",
   "name": "python3"
  },
  "language_info": {
   "codemirror_mode": {
    "name": "ipython",
    "version": 3
   },
   "file_extension": ".py",
   "mimetype": "text/x-python",
   "name": "python",
   "nbconvert_exporter": "python",
   "pygments_lexer": "ipython3",
   "version": "3.12.3"
  }
 },
 "nbformat": 4,
 "nbformat_minor": 2
}
